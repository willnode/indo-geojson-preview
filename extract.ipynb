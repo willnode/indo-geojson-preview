{
 "cells": [
  {
   "cell_type": "code",
   "execution_count": 1,
   "metadata": {},
   "outputs": [],
   "source": [
    "CITIES = [\"Bangkalan\", \"Sampang\", \"Pamekasan\", \"Sumenep\"]\n",
    "PRECISION = 6"
   ]
  },
  {
   "cell_type": "code",
   "execution_count": 2,
   "metadata": {},
   "outputs": [],
   "source": [
    "import json\n",
    "\n",
    "def round_down(num, prec):\n",
    "    if isinstance(num, float):\n",
    "        s = str(num)\n",
    "        return float(s[:s.find('.') + prec + 1])\n",
    "    else:\n",
    "        raise ValueError\n",
    "\n",
    "def round_border(v):\n",
    "    global PRECISION\n",
    "    if isinstance(v, float):\n",
    "        return round_down(v, PRECISION)\n",
    "    if isinstance(v, int):\n",
    "        return v\n",
    "    return [round_border(x) for x in v]"
   ]
  },
  {
   "cell_type": "code",
   "execution_count": 55,
   "metadata": {},
   "outputs": [],
   "source": [
    "with open('indonesia-villages.json') as myfile:\n",
    "    data = json.loads(myfile.read())"
   ]
  },
  {
   "cell_type": "code",
   "execution_count": 56,
   "metadata": {},
   "outputs": [],
   "source": [
    "filtered = [{\n",
    "    \"district\": x['properties']['NAME_2'],\n",
    "    \"subdistrict\": x['properties']['NAME_3'],\n",
    "    \"village\": x['properties']['NAME_4'],\n",
    "    \"border\": x['geometry']['coordinates'],\n",
    "} for x in data['features'] if x['geometry'] != None and x['properties']['NAME_2'] in CITIES]"
   ]
  },
  {
   "cell_type": "code",
   "execution_count": 57,
   "metadata": {},
   "outputs": [
    {
     "data": {
      "text/plain": [
       "985"
      ]
     },
     "execution_count": 57,
     "metadata": {},
     "output_type": "execute_result"
    }
   ],
   "source": [
    "for w in filtered:\n",
    "    w['border'] = round_border(w['border'])\n",
    "len(filtered)"
   ]
  },
  {
   "cell_type": "code",
   "execution_count": 58,
   "metadata": {},
   "outputs": [],
   "source": [
    "with open('village.json', 'w', encoding='utf-8') as f:\n",
    "  json.dump(filtered, f, ensure_ascii=False, separators=(',', ':'))"
   ]
  },
  {
   "cell_type": "code",
   "execution_count": 14,
   "metadata": {},
   "outputs": [],
   "source": [
    "\n",
    "with open('indonesia-cities.json') as myfile:\n",
    "    data2 = json.loads(myfile.read())"
   ]
  },
  {
   "cell_type": "code",
   "execution_count": 15,
   "metadata": {},
   "outputs": [],
   "source": [
    "filtered2 = [{\n",
    "    \"district\": [y for y in CITIES if y.upper() == x['properties']['Name']],\n",
    "    \"type\": x['geometry']['type'],\n",
    "    \"border\": x['geometry']['coordinates'],\n",
    "} for x in data2['features'] if x['properties']['Name'] in [y.upper() for y in CITIES]]"
   ]
  },
  {
   "cell_type": "code",
   "execution_count": 16,
   "metadata": {},
   "outputs": [
    {
     "data": {
      "text/plain": [
       "4"
      ]
     },
     "execution_count": 16,
     "metadata": {},
     "output_type": "execute_result"
    }
   ],
   "source": [
    "for w in filtered2:\n",
    "    w['border'] = round_border(w['border'])\n",
    "len(filtered2)"
   ]
  },
  {
   "cell_type": "code",
   "execution_count": 17,
   "metadata": {},
   "outputs": [],
   "source": [
    "with open('cities.json', 'w', encoding='utf-8') as f:\n",
    "  json.dump(filtered2, f, ensure_ascii=False, separators=(',', ':'))"
   ]
  },
  {
   "cell_type": "code",
   "execution_count": 10,
   "metadata": {},
   "outputs": [],
   "source": [
    "with open('indonesia-subdistricts.json') as myfile:\n",
    "    data3 = json.loads(myfile.read())"
   ]
  },
  {
   "cell_type": "code",
   "execution_count": 11,
   "metadata": {},
   "outputs": [],
   "source": [
    "filtered3 = [{\n",
    "    \"district\": x['properties']['NAME_2'],\n",
    "    \"subdistrict\": x['properties']['NAME_3'],\n",
    "    \"border\": x['geometry']['coordinates'],\n",
    "} for x in data3['features'] if x['geometry'] != None and x['properties']['NAME_2'] in CITIES]"
   ]
  },
  {
   "cell_type": "code",
   "execution_count": 12,
   "metadata": {},
   "outputs": [
    {
     "data": {
      "text/plain": [
       "72"
      ]
     },
     "execution_count": 12,
     "metadata": {},
     "output_type": "execute_result"
    }
   ],
   "source": [
    "for w in filtered3:\n",
    "    w['border'] = round_border(w['border'])\n",
    "len(filtered3)"
   ]
  },
  {
   "cell_type": "code",
   "execution_count": 13,
   "metadata": {},
   "outputs": [],
   "source": [
    "with open('subdistrict.json', 'w', encoding='utf-8') as f:\n",
    "  json.dump(filtered3, f, ensure_ascii=False, separators=(',', ':'))"
   ]
  }
 ],
 "metadata": {
  "kernelspec": {
   "display_name": "ipynb",
   "language": "python",
   "name": "python3"
  },
  "language_info": {
   "codemirror_mode": {
    "name": "ipython",
    "version": 3
   },
   "file_extension": ".py",
   "mimetype": "text/x-python",
   "name": "python",
   "nbconvert_exporter": "python",
   "pygments_lexer": "ipython3",
   "version": "3.12.4"
  }
 },
 "nbformat": 4,
 "nbformat_minor": 2
}
